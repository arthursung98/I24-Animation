{
 "cells": [
  {
   "cell_type": "code",
   "execution_count": 1,
   "id": "38ce5f1a",
   "metadata": {},
   "outputs": [],
   "source": [
    "# Import helper functions for animation class.\n",
    "import animation_functions"
   ]
  },
  {
   "cell_type": "code",
   "execution_count": 2,
   "id": "4b46db45",
   "metadata": {},
   "outputs": [
    {
     "ename": "NameError",
     "evalue": "name 'pathlib' is not defined",
     "output_type": "error",
     "traceback": [
      "\u001b[1;31m---------------------------------------------------------------------------\u001b[0m",
      "\u001b[1;31mNameError\u001b[0m                                 Traceback (most recent call last)",
      "Input \u001b[1;32mIn [2]\u001b[0m, in \u001b[0;36m<module>\u001b[1;34m\u001b[0m\n\u001b[0;32m      1\u001b[0m \u001b[38;5;66;03m# Initialize Animation Class\u001b[39;00m\n\u001b[1;32m----> 2\u001b[0m anim \u001b[38;5;241m=\u001b[39m \u001b[43manimation_functions\u001b[49m\u001b[38;5;241;43m.\u001b[39;49m\u001b[43mAnimation\u001b[49m\u001b[43m(\u001b[49m\u001b[43m)\u001b[49m\n",
      "File \u001b[1;32mC:\\I24 Motion Project\\YB Animation Software\\src\\animation_functions.py:21\u001b[0m, in \u001b[0;36mAnimation.__init__\u001b[1;34m(self)\u001b[0m\n\u001b[0;32m     20\u001b[0m \u001b[38;5;28;01mdef\u001b[39;00m \u001b[38;5;21m__init__\u001b[39m(\u001b[38;5;28mself\u001b[39m) :\n\u001b[1;32m---> 21\u001b[0m     \u001b[38;5;28mself\u001b[39m\u001b[38;5;241m.\u001b[39mdata_path \u001b[38;5;241m=\u001b[39m \u001b[43mpathlib\u001b[49m\u001b[38;5;241m.\u001b[39mPath()\u001b[38;5;241m.\u001b[39mabsolute()\u001b[38;5;241m.\u001b[39mjoinpath(\u001b[38;5;124m'\u001b[39m\u001b[38;5;124m../csvData\u001b[39m\u001b[38;5;124m'\u001b[39m)\n",
      "\u001b[1;31mNameError\u001b[0m: name 'pathlib' is not defined"
     ]
    }
   ],
   "source": [
    "# Initialize Animation Class\n",
    "anim = animation_functions.Animation('TM_chunk10_ratio0_pollute.csv')"
   ]
  },
  {
   "cell_type": "code",
   "execution_count": null,
   "id": "229ea169",
   "metadata": {},
   "outputs": [],
   "source": [
    "# Transform CSV File into individual Frame snapshots\n",
    "anim.csv_to_framesnap_synth()"
   ]
  },
  {
   "cell_type": "code",
   "execution_count": null,
   "id": "afcff130",
   "metadata": {},
   "outputs": [],
   "source": [
    "# Fetch image files from the folder, and create an animation.\n",
    "anim.animate()"
   ]
  },
  {
   "cell_type": "code",
   "execution_count": null,
   "id": "fc51f868",
   "metadata": {},
   "outputs": [],
   "source": []
  }
 ],
 "metadata": {
  "kernelspec": {
   "display_name": "Python 3 (ipykernel)",
   "language": "python",
   "name": "python3"
  },
  "language_info": {
   "codemirror_mode": {
    "name": "ipython",
    "version": 3
   },
   "file_extension": ".py",
   "mimetype": "text/x-python",
   "name": "python",
   "nbconvert_exporter": "python",
   "pygments_lexer": "ipython3",
   "version": "3.10.0"
  }
 },
 "nbformat": 4,
 "nbformat_minor": 5
}
