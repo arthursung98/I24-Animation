{
 "cells": [
  {
   "cell_type": "code",
   "execution_count": 2,
   "id": "a1d96413",
   "metadata": {},
   "outputs": [],
   "source": [
    "# import packages\n",
    "from utils import *\n",
    "import importlib\n",
    "import utils\n",
    "importlib.reload(utils)\n",
    "import os.path\n",
    "from os import path\n",
    "import pandas as pd\n",
    "import mplcursors\n",
    "import matplotlib.pyplot as plt"
   ]
  },
  {
   "cell_type": "code",
   "execution_count": 3,
   "id": "9a79add6",
   "metadata": {},
   "outputs": [
    {
     "name": "stderr",
     "output_type": "stream",
     "text": [
      "C:\\Users\\Arthur\\anaconda3\\lib\\site-packages\\ipykernel\\ipkernel.py:287: DeprecationWarning: `should_run_async` will not call `transform_cell` automatically in the future. Please pass the result to `transformed_cell` argument and any exception that happen during thetransform in `preprocessing_exc_tuple` in IPython 7.17 and above.\n",
      "  and should_run_async(code)\n"
     ]
    }
   ],
   "source": [
    "data_path = pathlib.Path().absolute().joinpath('../2D-3D May 2021')\n",
    "file_name = data_path.joinpath('rectified/rectified_record_p2c1_00001_track_outputs_corrected_3D.csv')\n",
    "df = utils.read_data(file_name,0)"
   ]
  },
  {
   "cell_type": "code",
   "execution_count": 4,
   "id": "c6cce251",
   "metadata": {},
   "outputs": [],
   "source": [
    "# select one vehicle with specified ID to visualize\n",
    "Y1 = df.loc[(df['ID'] == 80261)]\n",
    "Y1 = Y1.interpolate(method='linear', limit_area='inside')\n",
    "Y1 = Y1.dropna()\n",
    "timestamps = Y1['Timestamp'].values\n",
    "\n",
    "Y1 = np.array(Y1[['bbr_x','bbr_y', 'fbr_x','fbr_y','fbl_x','fbl_y','bbl_x', 'bbl_y']])\n",
    "# Y1 = np.array(Y1['Frame #'])"
   ]
  },
  {
   "cell_type": "code",
   "execution_count": 10,
   "id": "0cefbb2d",
   "metadata": {},
   "outputs": [
    {
     "data": {
      "image/png": "[encoded data removed]",
      "text/plain": [
       "<Figure size 1080x72 with 1 Axes>"
      ]
     },
     "metadata": {
      "needs_background": "light"
     },
     "output_type": "display_data"
    }
   ],
   "source": [
    "D = Y1\n",
    "fig, ax = plt.subplots(figsize=(15,1))\n",
    "\n",
    "coord = D[0,:]\n",
    "coord = np.reshape(coord,(-1,2)).tolist()\n",
    "coord.append(coord[0]) #repeat the first point to create a 'closed loop'\n",
    "xs, ys = zip(*coord) #lon, lat as x, y\n",
    "\n",
    "r = random.random()\n",
    "g = random.random()\n",
    "b = random.random()\n",
    "\n",
    "color = (r,g,b)\n",
    "\n",
    "plt.plot(xs,ys, c=color)\n",
    "\n",
    "plt.show()"
   ]
  },
  {
   "cell_type": "code",
   "execution_count": null,
   "id": "519ddba3",
   "metadata": {},
   "outputs": [],
   "source": []
  }
 ],
 "metadata": {
  "kernelspec": {
   "display_name": "Python 3",
   "language": "python",
   "name": "python3"
  },
  "language_info": {
   "codemirror_mode": {
    "name": "ipython",
    "version": 3
   },
   "file_extension": ".py",
   "mimetype": "text/x-python",
   "name": "python",
   "nbconvert_exporter": "python",
   "pygments_lexer": "ipython3",
   "version": "3.8.8"
  }
 },
 "nbformat": 4,
 "nbformat_minor": 5
}
