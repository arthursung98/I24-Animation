{
 "cells": [
  {
   "cell_type": "code",
   "execution_count": 1,
   "id": "007a2352",
   "metadata": {},
   "outputs": [],
   "source": [
    "import csv\n",
    "import numpy as np\n",
    "import multiprocessing as mp\n",
    "import cv2\n",
    "import queue\n",
    "import time\n",
    "import utils\n",
    "import draw_rectify\n",
    "import os"
   ]
  },
  {
   "cell_type": "code",
   "execution_count": 2,
   "id": "36978fea",
   "metadata": {},
   "outputs": [],
   "source": [
    "csv_file = \"../csvData/rectified_p1c6.csv\"\n",
    "sequence = \"../Original_Vid/p1c6_pure.mp4\"\n",
    "draw_rectify.plot_rectified_objects(sequence,csv_file,frame_rate = 10.0)"
   ]
  },
  {
   "cell_type": "code",
   "execution_count": 7,
   "id": "dc117ac5",
   "metadata": {},
   "outputs": [],
   "source": [
    "# Fetch image files from the folder, and create an animation.\n",
    "\n",
    "image_folder = '../p1c6annote'\n",
    "video_name = 'p1c6_noted.mp4'\n",
    "\n",
    "images = [img for img in os.listdir(image_folder) if img.endswith(\".jpg\")]\n",
    "images.sort()\n",
    "\n",
    "frame = cv2.imread(os.path.join(image_folder, images[1]))\n",
    "height, width, layers = frame.shape\n",
    "video = cv2.VideoWriter(video_name, 0, 10, (width,height))\n",
    "\n",
    "for image in images:\n",
    "    video.write(cv2.imread(os.path.join(image_folder, image)))\n",
    "    \n",
    "cv2.destroyAllWindows()\n",
    "video.release()"
   ]
  },
  {
   "cell_type": "code",
   "execution_count": null,
   "id": "b9b73d5b",
   "metadata": {},
   "outputs": [],
   "source": []
  }
 ],
 "metadata": {
  "kernelspec": {
   "display_name": "Python 3",
   "language": "python",
   "name": "python3"
  },
  "language_info": {
   "codemirror_mode": {
    "name": "ipython",
    "version": 3
   },
   "file_extension": ".py",
   "mimetype": "text/x-python",
   "name": "python",
   "nbconvert_exporter": "python",
   "pygments_lexer": "ipython3",
   "version": "3.8.8"
  }
 },
 "nbformat": 4,
 "nbformat_minor": 5
}
